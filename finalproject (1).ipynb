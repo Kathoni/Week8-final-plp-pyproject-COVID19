{
 "cells": [
  {
   "cell_type": "code",
   "execution_count": 15,
   "id": "45eed353-6dd2-45c6-b6e7-c0d41f8718fc",
   "metadata": {},
   "outputs": [
    {
     "name": "stdout",
     "output_type": "stream",
     "text": [
      "Dataset Info:\n",
      "<class 'pandas.core.frame.DataFrame'>\n",
      "RangeIndex: 429435 entries, 0 to 429434\n",
      "Data columns (total 67 columns):\n",
      " #   Column                                      Non-Null Count   Dtype  \n",
      "---  ------                                      --------------   -----  \n",
      " 0   iso_code                                    429435 non-null  object \n",
      " 1   continent                                   402910 non-null  object \n",
      " 2   location                                    429435 non-null  object \n",
      " 3   date                                        429435 non-null  object \n",
      " 4   total_cases                                 411804 non-null  float64\n",
      " 5   new_cases                                   410159 non-null  float64\n",
      " 6   new_cases_smoothed                          408929 non-null  float64\n",
      " 7   total_deaths                                411804 non-null  float64\n",
      " 8   new_deaths                                  410608 non-null  float64\n",
      " 9   new_deaths_smoothed                         409378 non-null  float64\n",
      " 10  total_cases_per_million                     411804 non-null  float64\n",
      " 11  new_cases_per_million                       410159 non-null  float64\n",
      " 12  new_cases_smoothed_per_million              408929 non-null  float64\n",
      " 13  total_deaths_per_million                    411804 non-null  float64\n",
      " 14  new_deaths_per_million                      410608 non-null  float64\n",
      " 15  new_deaths_smoothed_per_million             409378 non-null  float64\n",
      " 16  reproduction_rate                           184817 non-null  float64\n",
      " 17  icu_patients                                39116 non-null   float64\n",
      " 18  icu_patients_per_million                    39116 non-null   float64\n",
      " 19  hosp_patients                               40656 non-null   float64\n",
      " 20  hosp_patients_per_million                   40656 non-null   float64\n",
      " 21  weekly_icu_admissions                       10993 non-null   float64\n",
      " 22  weekly_icu_admissions_per_million           10993 non-null   float64\n",
      " 23  weekly_hosp_admissions                      24497 non-null   float64\n",
      " 24  weekly_hosp_admissions_per_million          24497 non-null   float64\n",
      " 25  total_tests                                 79387 non-null   float64\n",
      " 26  new_tests                                   75403 non-null   float64\n",
      " 27  total_tests_per_thousand                    79387 non-null   float64\n",
      " 28  new_tests_per_thousand                      75403 non-null   float64\n",
      " 29  new_tests_smoothed                          103965 non-null  float64\n",
      " 30  new_tests_smoothed_per_thousand             103965 non-null  float64\n",
      " 31  positive_rate                               95927 non-null   float64\n",
      " 32  tests_per_case                              94348 non-null   float64\n",
      " 33  tests_units                                 106788 non-null  object \n",
      " 34  total_vaccinations                          85417 non-null   float64\n",
      " 35  people_vaccinated                           81132 non-null   float64\n",
      " 36  people_fully_vaccinated                     78061 non-null   float64\n",
      " 37  total_boosters                              53600 non-null   float64\n",
      " 38  new_vaccinations                            70971 non-null   float64\n",
      " 39  new_vaccinations_smoothed                   195029 non-null  float64\n",
      " 40  total_vaccinations_per_hundred              85417 non-null   float64\n",
      " 41  people_vaccinated_per_hundred               81132 non-null   float64\n",
      " 42  people_fully_vaccinated_per_hundred         78061 non-null   float64\n",
      " 43  total_boosters_per_hundred                  53600 non-null   float64\n",
      " 44  new_vaccinations_smoothed_per_million       195029 non-null  float64\n",
      " 45  new_people_vaccinated_smoothed              192177 non-null  float64\n",
      " 46  new_people_vaccinated_smoothed_per_hundred  192177 non-null  float64\n",
      " 47  stringency_index                            196190 non-null  float64\n",
      " 48  population_density                          360492 non-null  float64\n",
      " 49  median_age                                  334663 non-null  float64\n",
      " 50  aged_65_older                               323270 non-null  float64\n",
      " 51  aged_70_older                               331315 non-null  float64\n",
      " 52  gdp_per_capita                              328292 non-null  float64\n",
      " 53  extreme_poverty                             211996 non-null  float64\n",
      " 54  cardiovasc_death_rate                       328865 non-null  float64\n",
      " 55  diabetes_prevalence                         345911 non-null  float64\n",
      " 56  female_smokers                              247165 non-null  float64\n",
      " 57  male_smokers                                243817 non-null  float64\n",
      " 58  handwashing_facilities                      161741 non-null  float64\n",
      " 59  hospital_beds_per_thousand                  290689 non-null  float64\n",
      " 60  life_expectancy                             390299 non-null  float64\n",
      " 61  human_development_index                     319127 non-null  float64\n",
      " 62  population                                  429435 non-null  int64  \n",
      " 63  excess_mortality_cumulative_absolute        13411 non-null   float64\n",
      " 64  excess_mortality_cumulative                 13411 non-null   float64\n",
      " 65  excess_mortality                            13411 non-null   float64\n",
      " 66  excess_mortality_cumulative_per_million     13411 non-null   float64\n",
      "dtypes: float64(61), int64(1), object(5)\n",
      "memory usage: 219.5+ MB\n",
      "None\n",
      "\n",
      "Summary Statistics:\n",
      "        iso_code continent               location        date   total_cases  \\\n",
      "count     429435    402910                 429435      429435  4.118040e+05   \n",
      "unique       255         6                    255        1688           NaN   \n",
      "top     OWID_HIC    Africa  High-income countries  2022-01-10           NaN   \n",
      "freq        3026     95419                   3026         261           NaN   \n",
      "mean         NaN       NaN                    NaN         NaN  7.365292e+06   \n",
      "std          NaN       NaN                    NaN         NaN  4.477582e+07   \n",
      "min          NaN       NaN                    NaN         NaN  0.000000e+00   \n",
      "25%          NaN       NaN                    NaN         NaN  6.280750e+03   \n",
      "50%          NaN       NaN                    NaN         NaN  6.365300e+04   \n",
      "75%          NaN       NaN                    NaN         NaN  7.582720e+05   \n",
      "max          NaN       NaN                    NaN         NaN  7.758668e+08   \n",
      "\n",
      "           new_cases  new_cases_smoothed  total_deaths     new_deaths  \\\n",
      "count   4.101590e+05        4.089290e+05  4.118040e+05  410608.000000   \n",
      "unique           NaN                 NaN           NaN            NaN   \n",
      "top              NaN                 NaN           NaN            NaN   \n",
      "freq             NaN                 NaN           NaN            NaN   \n",
      "mean    8.017360e+03        8.041026e+03  8.125957e+04      71.852139   \n",
      "std     2.296649e+05        8.661611e+04  4.411901e+05    1368.322990   \n",
      "min     0.000000e+00        0.000000e+00  0.000000e+00       0.000000   \n",
      "25%     0.000000e+00        0.000000e+00  4.300000e+01       0.000000   \n",
      "50%     0.000000e+00        1.200000e+01  7.990000e+02       0.000000   \n",
      "75%     0.000000e+00        3.132860e+02  9.574000e+03       0.000000   \n",
      "max     4.423623e+07        6.319461e+06  7.057132e+06  103719.000000   \n",
      "\n",
      "        new_deaths_smoothed  ...   male_smokers  handwashing_facilities  \\\n",
      "count         409378.000000  ...  243817.000000           161741.000000   \n",
      "unique                  NaN  ...            NaN                     NaN   \n",
      "top                     NaN  ...            NaN                     NaN   \n",
      "freq                    NaN  ...            NaN                     NaN   \n",
      "mean              72.060873  ...      33.097723               50.649264   \n",
      "std              513.636567  ...      13.853948               31.905375   \n",
      "min                0.000000  ...       7.700000                1.188000   \n",
      "25%                0.000000  ...      22.600000               20.859000   \n",
      "50%                0.000000  ...      33.100000               49.542000   \n",
      "75%                3.143000  ...      41.500000               82.502000   \n",
      "max            14817.000000  ...      78.100000              100.000000   \n",
      "\n",
      "        hospital_beds_per_thousand  life_expectancy  human_development_index  \\\n",
      "count                290689.000000    390299.000000            319127.000000   \n",
      "unique                         NaN              NaN                      NaN   \n",
      "top                            NaN              NaN                      NaN   \n",
      "freq                           NaN              NaN                      NaN   \n",
      "mean                      3.106912        73.702098                 0.722139   \n",
      "std                       2.549205         7.387914                 0.148903   \n",
      "min                       0.100000        53.280000                 0.394000   \n",
      "25%                       1.300000        69.500000                 0.602000   \n",
      "50%                       2.500000        75.050000                 0.740000   \n",
      "75%                       4.210000        79.460000                 0.829000   \n",
      "max                      13.800000        86.750000                 0.957000   \n",
      "\n",
      "          population  excess_mortality_cumulative_absolute  \\\n",
      "count   4.294350e+05                          1.341100e+04   \n",
      "unique           NaN                                   NaN   \n",
      "top              NaN                                   NaN   \n",
      "freq             NaN                                   NaN   \n",
      "mean    1.520336e+08                          5.604765e+04   \n",
      "std     6.975408e+08                          1.568691e+05   \n",
      "min     4.700000e+01                         -3.772610e+04   \n",
      "25%     5.237980e+05                          1.765000e+02   \n",
      "50%     6.336393e+06                          6.815199e+03   \n",
      "75%     3.296952e+07                          3.912804e+04   \n",
      "max     7.975105e+09                          1.349776e+06   \n",
      "\n",
      "        excess_mortality_cumulative  excess_mortality  \\\n",
      "count                  13411.000000      13411.000000   \n",
      "unique                          NaN               NaN   \n",
      "top                             NaN               NaN   \n",
      "freq                            NaN               NaN   \n",
      "mean                       9.766431         10.925353   \n",
      "std                       12.040658         24.560706   \n",
      "min                      -44.230000        -95.920000   \n",
      "25%                        2.060000         -1.500000   \n",
      "50%                        8.130000          5.660000   \n",
      "75%                       15.160000         15.575000   \n",
      "max                       78.080000        378.220000   \n",
      "\n",
      "        excess_mortality_cumulative_per_million  \n",
      "count                              13411.000000  \n",
      "unique                                      NaN  \n",
      "top                                         NaN  \n",
      "freq                                        NaN  \n",
      "mean                                1772.666400  \n",
      "std                                 1991.892769  \n",
      "min                                -2936.453100  \n",
      "25%                                  116.872242  \n",
      "50%                                 1270.801400  \n",
      "75%                                 2883.024150  \n",
      "max                                10293.515000  \n",
      "\n",
      "[11 rows x 67 columns]\n",
      "\n",
      "Missing Values Count:\n",
      "iso_code                                        0\n",
      "continent                                   26525\n",
      "location                                        0\n",
      "date                                            0\n",
      "total_cases                                 17631\n",
      "                                            ...  \n",
      "population                                      0\n",
      "excess_mortality_cumulative_absolute       416024\n",
      "excess_mortality_cumulative                416024\n",
      "excess_mortality                           416024\n",
      "excess_mortality_cumulative_per_million    416024\n",
      "Length: 67, dtype: int64\n"
     ]
    },
    {
     "data": {
      "image/png": "[encoded data removed]",
      "text/plain": [
       "<Figure size 1200x600 with 1 Axes>"
      ]
     },
     "metadata": {},
     "output_type": "display_data"
    },
    {
     "data": {
      "application/vnd.plotly.v1+json": {
       "config": {
        "plotlyServerURL": "https://plot.ly"
       },
       "data": [
        {
         "coloraxis": "coloraxis",
         "customdata": [
          [
           235214,
           41128772
          ],
          [
           13145380,
           1426736614
          ],
          [
           335047,
           2842318
          ],
          [
           272139,
           44903228
          ],
          [
           8359,
           44295
          ],
          [
           48015,
           79843
          ],
          [
           107481,
           35588996
          ],
          [
           3904,
           15877
          ],
          [
           9106,
           93772
          ],
          [
           10101218,
           45510324
          ],
          [
           452273,
           2780472
          ],
          [
           44224,
           106459
          ],
          [
           301499099,
           4721383370
          ],
          [
           11861161,
           26177410
          ],
          [
           6082444,
           8939617
          ],
          [
           835757,
           10358078
          ],
          [
           39127,
           409989
          ],
          [
           696614,
           1472237
          ],
          [
           2051348,
           171186368
          ],
          [
           108582,
           281646
          ],
          [
           994037,
           9534956
          ],
          [
           4872829,
           11655923
          ],
          [
           71414,
           405285
          ],
          [
           28036,
           13352864
          ],
          [
           18860,
           64207
          ],
          [
           62697,
           782457
          ],
          [
           1212147,
           12224114
          ],
          [
           11922,
           27052
          ],
          [
           403666,
           3233530
          ],
          [
           330696,
           2630300
          ],
          [
           37511921,
           215313504
          ],
          [
           7557,
           31332
          ],
          [
           347723,
           449002
          ],
          [
           1329988,
           6781955
          ],
          [
           22139,
           22673764
          ],
          [
           54569,
           12889583
          ],
          [
           139319,
           16767851
          ],
          [
           125246,
           27914542
          ],
          [
           4819055,
           38454328
          ],
          [
           64474,
           593162
          ],
          [
           31472,
           68722
          ],
          [
           15441,
           5579148
          ],
          [
           7702,
           17723312
          ],
          [
           5401126,
           19603736
          ],
          [
           99373219,
           1425887360
          ],
          [
           6391876,
           51874028
          ],
          [
           9109,
           836783
          ],
          [
           25227,
           5970430
          ],
          [
           7345,
           17032
          ],
          [
           1234701,
           5180836
          ],
          [
           88434,
           28160548
          ],
          [
           1317144,
           4030361
          ],
          [
           1113662,
           11212198
          ],
          [
           45883,
           191173
          ],
          [
           696410,
           896007
          ],
          [
           4761919,
           10493990
          ],
          [
           101009,
           99010216
          ],
          [
           3435679,
           5882259
          ],
          [
           15690,
           1120851
          ],
          [
           16047,
           72758
          ],
          [
           661103,
           11228821
          ],
          [
           23460,
           1341298
          ],
          [
           1077445,
           18001002
          ],
          [
           516023,
           110990096
          ],
          [
           201920,
           6336393
          ],
          [
           null,
           56550000
          ],
          [
           17130,
           1674916
          ],
          [
           10189,
           3684041
          ],
          [
           610471,
           1326064
          ],
          [
           75356,
           1201680
          ],
          [
           501193,
           123379928
          ],
          [
           252916868,
           744807803
          ],
          [
           185822587,
           450146793
          ],
          [
           1923,
           3801
          ],
          [
           34658,
           53117
          ],
          [
           69047,
           929769
          ],
          [
           1499712,
           5540745
          ],
          [
           38997490,
           67813000
          ],
          [
           98041,
           304568
          ],
          [
           79387,
           306292
          ],
          [
           49051,
           2388997
          ],
          [
           12627,
           2705995
          ],
          [
           1863615,
           3744385
          ],
          [
           38437756,
           83369840
          ],
          [
           172062,
           33475870
          ],
          [
           20550,
           32677
          ],
          [
           5673681,
           10384972
          ],
          [
           11971,
           56494
          ],
          [
           19693,
           125459
          ],
          [
           203235,
           395762
          ],
          [
           52287,
           171783
          ],
          [
           1250371,
           17843914
          ],
          [
           35326,
           63329
          ],
          [
           38572,
           13859349
          ],
          [
           9614,
           2105580
          ],
          [
           74443,
           808727
          ],
          [
           34456,
           11585003
          ],
          [
           429044049,
           1250514600
          ],
          [
           472896,
           10432858
          ],
          [
           null,
           7488863
          ],
          [
           2230800,
           9967304
          ],
          [
           210374,
           372903
          ],
          [
           45041748,
           1417173120
          ],
          [
           6829399,
           275501344
          ],
          [
           7627863,
           88550568
          ],
          [
           2465545,
           44496124
          ],
          [
           1745088,
           5023108
          ],
          [
           38008,
           84534
          ],
          [
           4841558,
           9449000
          ],
          [
           26781078,
           59037472
          ],
          [
           157181,
           2827382
          ],
          [
           33803572,
           123951696
          ],
          [
           66391,
           110796
          ],
          [
           1746997,
           11285875
          ],
          [
           1504370,
           19397998
          ],
          [
           344106,
           54027484
          ],
          [
           5085,
           131237
          ],
          [
           274279,
           1782115
          ],
          [
           667290,
           4268886
          ],
          [
           88953,
           6630621
          ],
          [
           219060,
           7529477
          ],
          [
           977765,
           1850654
          ],
          [
           1239904,
           5489744
          ],
          [
           36138,
           2305826
          ],
          [
           7930,
           5302690
          ],
          [
           507269,
           6812344
          ],
          [
           21588,
           39355
          ],
          [
           1369355,
           2750058
          ],
          [
           1944334,
           737604900
          ],
          [
           91954400,
           3432097300
          ],
          [
           393542,
           647601
          ],
          [
           null,
           695180
          ],
          [
           68567,
           29611718
          ],
          [
           89168,
           20405318
          ],
          [
           5309410,
           33938216
          ],
          [
           186694,
           523798
          ],
          [
           33166,
           22593598
          ],
          [
           122796,
           533293
          ],
          [
           16297,
           41593
          ],
          [
           230354,
           367512
          ],
          [
           63872,
           4736146
          ],
          [
           328167,
           1299478
          ],
          [
           42027,
           326113
          ],
          [
           7619458,
           127504120
          ],
          [
           31765,
           114178
          ],
          [
           637520,
           3272993
          ],
          [
           17181,
           36491
          ],
          [
           1011489,
           3398373
          ],
          [
           251280,
           627082
          ],
          [
           1403,
           4413
          ],
          [
           1279115,
           37457976
          ],
          [
           233843,
           32969520
          ],
          [
           642885,
           54179312
          ],
          [
           172533,
           2567024
          ],
          [
           5393,
           12691
          ],
          [
           1003450,
           30547586
          ],
          [
           8640008,
           17564020
          ],
          [
           80163,
           289959
          ],
          [
           2639048,
           5185289
          ],
          [
           16185,
           6948395
          ],
          [
           9518,
           26207982
          ],
          [
           267188,
           218541216
          ],
          [
           1074,
           1952
          ],
          [
           124492666,
           600323657
          ],
          [
           0,
           26069416
          ],
          [
           350924,
           2093606
          ],
          [
           null,
           382836
          ],
          [
           null,
           1896000
          ],
          [
           14912,
           49574
          ],
          [
           1512647,
           5434324
          ],
          [
           15003352,
           45038860
          ],
          [
           399449,
           4576300
          ],
          [
           1580631,
           235824864
          ],
          [
           6372,
           18084
          ],
          [
           703228,
           5250076
          ],
          [
           1044821,
           4408582
          ],
          [
           46864,
           10142625
          ],
          [
           735759,
           6780745
          ],
          [
           4526977,
           34049588
          ],
          [
           4140383,
           115559008
          ],
          [
           4,
           47
          ],
          [
           6670799,
           39857144
          ],
          [
           5664109,
           10270857
          ],
          [
           1252713,
           3252412
          ],
          [
           514524,
           2695131
          ],
          [
           494595,
           974062
          ],
          [
           3541619,
           19659270
          ],
          [
           24268728,
           144713312
          ],
          [
           133264,
           13776702
          ],
          [
           5507,
           10994
          ],
          [
           2166,
           5401
          ],
          [
           6607,
           47681
          ],
          [
           30282,
           179872
          ],
          [
           12324,
           31816
          ],
          [
           3426,
           5885
          ],
          [
           9674,
           103959
          ],
          [
           17057,
           222390
          ],
          [
           25292,
           33690
          ],
          [
           6771,
           227393
          ],
          [
           841469,
           36408824
          ],
          [
           null,
           5466000
          ],
          [
           89485,
           17316452
          ],
          [
           2583470,
           6871547
          ],
          [
           51886,
           107135
          ],
          [
           7979,
           8605723
          ],
          [
           3006155,
           5637022
          ],
          [
           11051,
           44192
          ],
          [
           1878002,
           5643455
          ],
          [
           1356582,
           2119843
          ],
          [
           25954,
           724272
          ],
          [
           27334,
           17597508
          ],
          [
           4072765,
           59893884
          ],
          [
           68809418,
           436816679
          ],
          [
           34571873,
           51815808
          ],
          [
           18823,
           10913172
          ],
          [
           13980340,
           47558632
          ],
          [
           672798,
           21832150
          ],
          [
           63993,
           46874200
          ],
          [
           82501,
           618046
          ],
          [
           2755181,
           10549349
          ],
          [
           4457868,
           8740471
          ],
          [
           57423,
           22125242
          ],
          [
           null,
           23893396
          ],
          [
           17786,
           9952789
          ],
          [
           43230,
           65497752
          ],
          [
           4799180,
           71697024
          ],
          [
           39530,
           8848700
          ],
          [
           80,
           1893
          ],
          [
           16976,
           106867
          ],
          [
           191496,
           1531043
          ],
          [
           1153361,
           12356116
          ],
          [
           17004718,
           85341248
          ],
          [
           0,
           6430777
          ],
          [
           6805,
           45726
          ],
          [
           2943,
           11335
          ],
          [
           172154,
           47249588
          ],
          [
           5532777,
           39701744
          ],
          [
           1067030,
           9441138
          ],
          [
           24974629,
           67508936
          ],
          [
           103436829,
           338289856
          ],
          [
           25389,
           99479
          ],
          [
           251753518,
           2525921300
          ],
          [
           1041346,
           3422796
          ],
          [
           175081,
           34627648
          ],
          [
           12019,
           326744
          ],
          [
           26,
           808
          ],
          [
           552695,
           28301700
          ],
          [
           11624000,
           98186856
          ],
          [
           null,
           3170000
          ],
          [
           3760,
           11596
          ],
          [
           null,
           576005
          ],
          [
           775866783,
           7975105024
          ],
          [
           11945,
           33696612
          ],
          [
           349842,
           20017670
          ],
          [
           266386,
           16320539
          ]
         ],
         "geo": "geo",
         "hovertemplate": "<b>%{hovertext}</b><br><br>iso_code=%{location}<br>total_cases=%{customdata[0]}<br>population=%{customdata[1]}<br>Cases per Million=%{z}<extra></extra>",
         "hovertext": [
          "Afghanistan",
          "Africa",
          "Albania",
          "Algeria",
          "American Samoa",
          "Andorra",
          "Angola",
          "Anguilla",
          "Antigua and Barbuda",
          "Argentina",
          "Armenia",
          "Aruba",
          "Asia",
          "Australia",
          "Austria",
          "Azerbaijan",
          "Bahamas",
          "Bahrain",
          "Bangladesh",
          "Barbados",
          "Belarus",
          "Belgium",
          "Belize",
          "Benin",
          "Bermuda",
          "Bhutan",
          "Bolivia",
          "Bonaire Sint Eustatius and Saba",
          "Bosnia and Herzegovina",
          "Botswana",
          "Brazil",
          "British Virgin Islands",
          "Brunei",
          "Bulgaria",
          "Burkina Faso",
          "Burundi",
          "Cambodia",
          "Cameroon",
          "Canada",
          "Cape Verde",
          "Cayman Islands",
          "Central African Republic",
          "Chad",
          "Chile",
          "China",
          "Colombia",
          "Comoros",
          "Congo",
          "Cook Islands",
          "Costa Rica",
          "Cote d'Ivoire",
          "Croatia",
          "Cuba",
          "Curacao",
          "Cyprus",
          "Czechia",
          "Democratic Republic of Congo",
          "Denmark",
          "Djibouti",
          "Dominica",
          "Dominican Republic",
          "East Timor",
          "Ecuador",
          "Egypt",
          "El Salvador",
          "England",
          "Equatorial Guinea",
          "Eritrea",
          "Estonia",
          "Eswatini",
          "Ethiopia",
          "Europe",
          "European Union (27)",
          "Falkland Islands",
          "Faroe Islands",
          "Fiji",
          "Finland",
          "France",
          "French Guiana",
          "French Polynesia",
          "Gabon",
          "Gambia",
          "Georgia",
          "Germany",
          "Ghana",
          "Gibraltar",
          "Greece",
          "Greenland",
          "Grenada",
          "Guadeloupe",
          "Guam",
          "Guatemala",
          "Guernsey",
          "Guinea",
          "Guinea-Bissau",
          "Guyana",
          "Haiti",
          "High-income countries",
          "Honduras",
          "Hong Kong",
          "Hungary",
          "Iceland",
          "India",
          "Indonesia",
          "Iran",
          "Iraq",
          "Ireland",
          "Isle of Man",
          "Israel",
          "Italy",
          "Jamaica",
          "Japan",
          "Jersey",
          "Jordan",
          "Kazakhstan",
          "Kenya",
          "Kiribati",
          "Kosovo",
          "Kuwait",
          "Kyrgyzstan",
          "Laos",
          "Latvia",
          "Lebanon",
          "Lesotho",
          "Liberia",
          "Libya",
          "Liechtenstein",
          "Lithuania",
          "Low-income countries",
          "Lower-middle-income countries",
          "Luxembourg",
          "Macao",
          "Madagascar",
          "Malawi",
          "Malaysia",
          "Maldives",
          "Mali",
          "Malta",
          "Marshall Islands",
          "Martinique",
          "Mauritania",
          "Mauritius",
          "Mayotte",
          "Mexico",
          "Micronesia (country)",
          "Moldova",
          "Monaco",
          "Mongolia",
          "Montenegro",
          "Montserrat",
          "Morocco",
          "Mozambique",
          "Myanmar",
          "Namibia",
          "Nauru",
          "Nepal",
          "Netherlands",
          "New Caledonia",
          "New Zealand",
          "Nicaragua",
          "Niger",
          "Nigeria",
          "Niue",
          "North America",
          "North Korea",
          "North Macedonia",
          "Northern Cyprus",
          "Northern Ireland",
          "Northern Mariana Islands",
          "Norway",
          "Oceania",
          "Oman",
          "Pakistan",
          "Palau",
          "Palestine",
          "Panama",
          "Papua New Guinea",
          "Paraguay",
          "Peru",
          "Philippines",
          "Pitcairn",
          "Poland",
          "Portugal",
          "Puerto Rico",
          "Qatar",
          "Reunion",
          "Romania",
          "Russia",
          "Rwanda",
          "Saint Barthelemy",
          "Saint Helena",
          "Saint Kitts and Nevis",
          "Saint Lucia",
          "Saint Martin (French part)",
          "Saint Pierre and Miquelon",
          "Saint Vincent and the Grenadines",
          "Samoa",
          "San Marino",
          "Sao Tome and Principe",
          "Saudi Arabia",
          "Scotland",
          "Senegal",
          "Serbia",
          "Seychelles",
          "Sierra Leone",
          "Singapore",
          "Sint Maarten (Dutch part)",
          "Slovakia",
          "Slovenia",
          "Solomon Islands",
          "Somalia",
          "South Africa",
          "South America",
          "South Korea",
          "South Sudan",
          "Spain",
          "Sri Lanka",
          "Sudan",
          "Suriname",
          "Sweden",
          "Switzerland",
          "Syria",
          "Taiwan",
          "Tajikistan",
          "Tanzania",
          "Thailand",
          "Togo",
          "Tokelau",
          "Tonga",
          "Trinidad and Tobago",
          "Tunisia",
          "Turkey",
          "Turkmenistan",
          "Turks and Caicos Islands",
          "Tuvalu",
          "Uganda",
          "Ukraine",
          "United Arab Emirates",
          "United Kingdom",
          "United States",
          "United States Virgin Islands",
          "Upper-middle-income countries",
          "Uruguay",
          "Uzbekistan",
          "Vanuatu",
          "Vatican",
          "Venezuela",
          "Vietnam",
          "Wales",
          "Wallis and Futuna",
          "Western Sahara",
          "World",
          "Yemen",
          "Zambia",
          "Zimbabwe"
         ],
         "locations": [
          "AFG",
          "OWID_AFR",
          "ALB",
          "DZA",
          "ASM",
          "AND",
          "AGO",
          "AIA",
          "ATG",
          "ARG",
          "ARM",
          "ABW",
          "OWID_ASI",
          "AUS",
          "AUT",
          "AZE",
          "BHS",
          "BHR",
          "BGD",
          "BRB",
          "BLR",
          "BEL",
          "BLZ",
          "BEN",
          "BMU",
          "BTN",
          "BOL",
          "BES",
          "BIH",
          "BWA",
          "BRA",
          "VGB",
          "BRN",
          "BGR",
          "BFA",
          "BDI",
          "KHM",
          "CMR",
          "CAN",
          "CPV",
          "CYM",
          "CAF",
          "TCD",
          "CHL",
          "CHN",
          "COL",
          "COM",
          "COG",
          "COK",
          "CRI",
          "CIV",
          "HRV",
          "CUB",
          "CUW",
          "CYP",
          "CZE",
          "COD",
          "DNK",
          "DJI",
          "DMA",
          "DOM",
          "TLS",
          "ECU",
          "EGY",
          "SLV",
          "OWID_ENG",
          "GNQ",
          "ERI",
          "EST",
          "SWZ",
          "ETH",
          "OWID_EUR",
          "OWID_EUN",
          "FLK",
          "FRO",
          "FJI",
          "FIN",
          "FRA",
          "GUF",
          "PYF",
          "GAB",
          "GMB",
          "GEO",
          "DEU",
          "GHA",
          "GIB",
          "GRC",
          "GRL",
          "GRD",
          "GLP",
          "GUM",
          "GTM",
          "GGY",
          "GIN",
          "GNB",
          "GUY",
          "HTI",
          "OWID_HIC",
          "HND",
          "HKG",
          "HUN",
          "ISL",
          "IND",
          "IDN",
          "IRN",
          "IRQ",
          "IRL",
          "IMN",
          "ISR",
          "ITA",
          "JAM",
          "JPN",
          "JEY",
          "JOR",
          "KAZ",
          "KEN",
          "KIR",
          "OWID_KOS",
          "KWT",
          "KGZ",
          "LAO",
          "LVA",
          "LBN",
          "LSO",
          "LBR",
          "LBY",
          "LIE",
          "LTU",
          "OWID_LIC",
          "OWID_LMC",
          "LUX",
          "MAC",
          "MDG",
          "MWI",
          "MYS",
          "MDV",
          "MLI",
          "MLT",
          "MHL",
          "MTQ",
          "MRT",
          "MUS",
          "MYT",
          "MEX",
          "FSM",
          "MDA",
          "MCO",
          "MNG",
          "MNE",
          "MSR",
          "MAR",
          "MOZ",
          "MMR",
          "NAM",
          "NRU",
          "NPL",
          "NLD",
          "NCL",
          "NZL",
          "NIC",
          "NER",
          "NGA",
          "NIU",
          "OWID_NAM",
          "PRK",
          "MKD",
          "OWID_CYN",
          "OWID_NIR",
          "MNP",
          "NOR",
          "OWID_OCE",
          "OMN",
          "PAK",
          "PLW",
          "PSE",
          "PAN",
          "PNG",
          "PRY",
          "PER",
          "PHL",
          "PCN",
          "POL",
          "PRT",
          "PRI",
          "QAT",
          "REU",
          "ROU",
          "RUS",
          "RWA",
          "BLM",
          "SHN",
          "KNA",
          "LCA",
          "MAF",
          "SPM",
          "VCT",
          "WSM",
          "SMR",
          "STP",
          "SAU",
          "OWID_SCT",
          "SEN",
          "SRB",
          "SYC",
          "SLE",
          "SGP",
          "SXM",
          "SVK",
          "SVN",
          "SLB",
          "SOM",
          "ZAF",
          "OWID_SAM",
          "KOR",
          "SSD",
          "ESP",
          "LKA",
          "SDN",
          "SUR",
          "SWE",
          "CHE",
          "SYR",
          "TWN",
          "TJK",
          "TZA",
          "THA",
          "TGO",
          "TKL",
          "TON",
          "TTO",
          "TUN",
          "TUR",
          "TKM",
          "TCA",
          "TUV",
          "UGA",
          "UKR",
          "ARE",
          "GBR",
          "USA",
          "VIR",
          "OWID_UMC",
          "URY",
          "UZB",
          "VUT",
          "VAT",
          "VEN",
          "VNM",
          "OWID_WLS",
          "WLF",
          "ESH",
          "OWID_WRL",
          "YEM",
          "ZMB",
          "ZWE"
         ],
         "name": "",
         "type": "choropleth",
         "z": [
          5796.468,
          9088.877,
          118491.02,
          5984.05,
          172831.6,
          602280.44,
          3016.162,
          274890.88,
          98071.1,
          222455.06,
          156991.11,
          410271.62,
          63948.2,
          452699,
          671004.9,
          81178.445,
          98421.81,
          454276.25,
          12110.572,
          384600.7,
          108362.68,
          418562.72,
          177319.92,
          2037.573,
          291175.2,
          80286.07,
          100366.93,
          416067.56,
          125956.49,
          135536.98,
          178367.94,
          197084.3,
          763598.6,
          194845.4,
          983.56,
          4096.433,
          8099.134,
          4532.516,
          124134.43,
          124048.1,
          439497.84,
          3028.812,
          417.332,
          276229.6,
          69726.805,
          123543.3,
          10919.549,
          4180.042,
          498067.4,
          242966.97,
          2909.492,
          337121.47,
          100694.4,
          247546.55,
          523075.38,
          446155.97,
          986.445,
          582032.56,
          13798.259,
          240044.88,
          58865.52,
          17132.854,
          60449.453,
          4582.054,
          32151.248,
          null,
          9497.935,
          2988.457,
          452169.94,
          61821.89,
          3997.255,
          337990.34,
          413754.22,
          547083.94,
          641351.6,
          75097.78,
          269281.97,
          606706,
          328644.84,
          283131.66,
          20179.352,
          4789.353,
          491099.22,
          457123.1,
          5190.54,
          546092.3,
          544892.3,
          213714.42,
          168419.88,
          528290.6,
          316520.7,
          70057.125,
          554150.6,
          2744.335,
          4566.056,
          90603.38,
          2995.235,
          351468.5,
          45193.176,
          null,
          230352.08,
          553080.2,
          31598.86,
          24493.01,
          85204.44,
          55945.402,
          341503.62,
          451701.84,
          531855.56,
          449202.94,
          55361.973,
          270433.8,
          641502.3,
          155202.16,
          75088.555,
          6342.68,
          38971.19,
          159654.83,
          145394.48,
          12788.335,
          28979.996,
          519795.25,
          215842.16,
          15807.624,
          1475.817,
          70221.87,
          548810.25,
          486117.47,
          2712.27,
          28590.73,
          602376.2,
          null,
          2252.732,
          4335.124,
          153028.81,
          356207.4,
          1437.46,
          232482.77,
          406469.78,
          659169.44,
          13100.216,
          257157.16,
          137667.97,
          59243.242,
          283302.4,
          209711.42,
          441115.3,
          298725.5,
          408818.03,
          313449.5,
          34265.92,
          7160.744,
          11959.141,
          59706.86,
          456221.97,
          33768.65,
          482562.8,
          279186.16,
          514260.6,
          2404.667,
          376.028,
          1197.342,
          582429.5,
          205992.19,
          0,
          190695.11,
          null,
          null,
          323463.7,
          277204.28,
          333039.8,
          84446.055,
          6485.952,
          358299.6,
          132552.62,
          237417.66,
          4593.08,
          108832.664,
          135232.81,
          36330.51,
          88888.89,
          173783.28,
          543733.1,
          386523.97,
          177884.27,
          567494.2,
          184779.06,
          166703.84,
          9762.196,
          503014.25,
          403427.1,
          141383.66,
          169368.1,
          426465.5,
          594791.7,
          94785.52,
          79235.75,
          741418.25,
          29918.74,
          26152.596,
          null,
          5069.656,
          380413.34,
          413328.88,
          964.019,
          532073.56,
          262101.84,
          343127.25,
          641340.2,
          33228.562,
          1535.455,
          65291.246,
          159838.72,
          667636.06,
          1707.894,
          292302.16,
          29463.502,
          1295.842,
          132388.6,
          262715.12,
          507026.47,
          2556.432,
          null,
          1746.769,
          668.039,
          66901.21,
          4348.858,
          34602.074,
          161594.62,
          128012.02,
          95167.016,
          195325.25,
          0,
          148357.28,
          293947.25,
          3638.641,
          134785.47,
          104180.94,
          366308,
          302859.5,
          293443.22,
          88856.516,
          307099,
          5011.054,
          38391.758,
          50682.26,
          19590.072,
          116612.4,
          null,
          326928.1,
          null,
          97113.85,
          312.509,
          17359.357,
          16577.57
         ]
        }
       ],
       "layout": {
        "autosize": true,
        "coloraxis": {
         "colorbar": {
          "title": {
           "text": "Cases per Million"
          }
         },
         "colorscale": [
          [
           0,
           "#0d0887"
          ],
          [
           0.1111111111111111,
           "#46039f"
          ],
          [
           0.2222222222222222,
           "#7201a8"
          ],
          [
           0.3333333333333333,
           "#9c179e"
          ],
          [
           0.4444444444444444,
           "#bd3786"
          ],
          [
           0.5555555555555556,
           "#d8576b"
          ],
          [
           0.6666666666666666,
           "#ed7953"
          ],
          [
           0.7777777777777778,
           "#fb9f3a"
          ],
          [
           0.8888888888888888,
           "#fdca26"
          ],
          [
           1,
           "#f0f921"
          ]
         ]
        },
        "geo": {
         "center": {},
         "domain": {
          "x": [
           0,
           1
          ],
          "y": [
           0,
           1
          ]
         }
        },
        "legend": {
         "tracegroupgap": 0
        },
        "margin": {
         "b": 0,
         "l": 0,
         "r": 0,
         "t": 40
        },
        "template": {
         "data": {
          "bar": [
           {
            "error_x": {
             "color": "#2a3f5f"
            },
            "error_y": {
             "color": "#2a3f5f"
            },
            "marker": {
             "line": {
              "color": "#E5ECF6",
              "width": 0.5
             },
             "pattern": {
              "fillmode": "overlay",
              "size": 10,
              "solidity": 0.2
             }
            },
            "type": "bar"
           }
          ],
          "barpolar": [
           {
            "marker": {
             "line": {
              "color": "#E5ECF6",
              "width": 0.5
             },
             "pattern": {
              "fillmode": "overlay",
              "size": 10,
              "solidity": 0.2
             }
            },
            "type": "barpolar"
           }
          ],
          "carpet": [
           {
            "aaxis": {
             "endlinecolor": "#2a3f5f",
             "gridcolor": "white",
             "linecolor": "white",
             "minorgridcolor": "white",
             "startlinecolor": "#2a3f5f"
            },
            "baxis": {
             "endlinecolor": "#2a3f5f",
             "gridcolor": "white",
             "linecolor": "white",
             "minorgridcolor": "white",
             "startlinecolor": "#2a3f5f"
            },
            "type": "carpet"
           }
          ],
          "choropleth": [
           {
            "colorbar": {
             "outlinewidth": 0,
             "ticks": ""
            },
            "type": "choropleth"
           }
          ],
          "contour": [
           {
            "colorbar": {
             "outlinewidth": 0,
             "ticks": ""
            },
            "colorscale": [
             [
              0,
              "#0d0887"
             ],
             [
              0.1111111111111111,
              "#46039f"
             ],
             [
              0.2222222222222222,
              "#7201a8"
             ],
             [
              0.3333333333333333,
              "#9c179e"
             ],
             [
              0.4444444444444444,
              "#bd3786"
             ],
             [
              0.5555555555555556,
              "#d8576b"
             ],
             [
              0.6666666666666666,
              "#ed7953"
             ],
             [
              0.7777777777777778,
              "#fb9f3a"
             ],
             [
              0.8888888888888888,
              "#fdca26"
             ],
             [
              1,
              "#f0f921"
             ]
            ],
            "type": "contour"
           }
          ],
          "contourcarpet": [
           {
            "colorbar": {
             "outlinewidth": 0,
             "ticks": ""
            },
            "type": "contourcarpet"
           }
          ],
          "heatmap": [
           {
            "colorbar": {
             "outlinewidth": 0,
             "ticks": ""
            },
            "colorscale": [
             [
              0,
              "#0d0887"
             ],
             [
              0.1111111111111111,
              "#46039f"
             ],
             [
              0.2222222222222222,
              "#7201a8"
             ],
             [
              0.3333333333333333,
              "#9c179e"
             ],
             [
              0.4444444444444444,
              "#bd3786"
             ],
             [
              0.5555555555555556,
              "#d8576b"
             ],
             [
              0.6666666666666666,
              "#ed7953"
             ],
             [
              0.7777777777777778,
              "#fb9f3a"
             ],
             [
              0.8888888888888888,
              "#fdca26"
             ],
             [
              1,
              "#f0f921"
             ]
            ],
            "type": "heatmap"
           }
          ],
          "heatmapgl": [
           {
            "colorbar": {
             "outlinewidth": 0,
             "ticks": ""
            },
            "colorscale": [
             [
              0,
              "#0d0887"
             ],
             [
              0.1111111111111111,
              "#46039f"
             ],
             [
              0.2222222222222222,
              "#7201a8"
             ],
             [
              0.3333333333333333,
              "#9c179e"
             ],
             [
              0.4444444444444444,
              "#bd3786"
             ],
             [
              0.5555555555555556,
              "#d8576b"
             ],
             [
              0.6666666666666666,
              "#ed7953"
             ],
             [
              0.7777777777777778,
              "#fb9f3a"
             ],
             [
              0.8888888888888888,
              "#fdca26"
             ],
             [
              1,
              "#f0f921"
             ]
            ],
            "type": "heatmapgl"
           }
          ],
          "histogram": [
           {
            "marker": {
             "pattern": {
              "fillmode": "overlay",
              "size": 10,
              "solidity": 0.2
             }
            },
            "type": "histogram"
           }
          ],
          "histogram2d": [
           {
            "colorbar": {
             "outlinewidth": 0,
             "ticks": ""
            },
            "colorscale": [
             [
              0,
              "#0d0887"
             ],
             [
              0.1111111111111111,
              "#46039f"
             ],
             [
              0.2222222222222222,
              "#7201a8"
             ],
             [
              0.3333333333333333,
              "#9c179e"
             ],
             [
              0.4444444444444444,
              "#bd3786"
             ],
             [
              0.5555555555555556,
              "#d8576b"
             ],
             [
              0.6666666666666666,
              "#ed7953"
             ],
             [
              0.7777777777777778,
              "#fb9f3a"
             ],
             [
              0.8888888888888888,
              "#fdca26"
             ],
             [
              1,
              "#f0f921"
             ]
            ],
            "type": "histogram2d"
           }
          ],
          "histogram2dcontour": [
           {
            "colorbar": {
             "outlinewidth": 0,
             "ticks": ""
            },
            "colorscale": [
             [
              0,
              "#0d0887"
             ],
             [
              0.1111111111111111,
              "#46039f"
             ],
             [
              0.2222222222222222,
              "#7201a8"
             ],
             [
              0.3333333333333333,
              "#9c179e"
             ],
             [
              0.4444444444444444,
              "#bd3786"
             ],
             [
              0.5555555555555556,
              "#d8576b"
             ],
             [
              0.6666666666666666,
              "#ed7953"
             ],
             [
              0.7777777777777778,
              "#fb9f3a"
             ],
             [
              0.8888888888888888,
              "#fdca26"
             ],
             [
              1,
              "#f0f921"
             ]
            ],
            "type": "histogram2dcontour"
           }
          ],
          "mesh3d": [
           {
            "colorbar": {
             "outlinewidth": 0,
             "ticks": ""
            },
            "type": "mesh3d"
           }
          ],
          "parcoords": [
           {
            "line": {
             "colorbar": {
              "outlinewidth": 0,
              "ticks": ""
             }
            },
            "type": "parcoords"
           }
          ],
          "pie": [
           {
            "automargin": true,
            "type": "pie"
           }
          ],
          "scatter": [
           {
            "fillpattern": {
             "fillmode": "overlay",
             "size": 10,
             "solidity": 0.2
            },
            "type": "scatter"
           }
          ],
          "scatter3d": [
           {
            "line": {
             "colorbar": {
              "outlinewidth": 0,
              "ticks": ""
             }
            },
            "marker": {
             "colorbar": {
              "outlinewidth": 0,
              "ticks": ""
             }
            },
            "type": "scatter3d"
           }
          ],
          "scattercarpet": [
           {
            "marker": {
             "colorbar": {
              "outlinewidth": 0,
              "ticks": ""
             }
            },
            "type": "scattercarpet"
           }
          ],
          "scattergeo": [
           {
            "marker": {
             "colorbar": {
              "outlinewidth": 0,
              "ticks": ""
             }
            },
            "type": "scattergeo"
           }
          ],
          "scattergl": [
           {
            "marker": {
             "colorbar": {
              "outlinewidth": 0,
              "ticks": ""
             }
            },
            "type": "scattergl"
           }
          ],
          "scattermapbox": [
           {
            "marker": {
             "colorbar": {
              "outlinewidth": 0,
              "ticks": ""
             }
            },
            "type": "scattermapbox"
           }
          ],
          "scatterpolar": [
           {
            "marker": {
             "colorbar": {
              "outlinewidth": 0,
              "ticks": ""
             }
            },
            "type": "scatterpolar"
           }
          ],
          "scatterpolargl": [
           {
            "marker": {
             "colorbar": {
              "outlinewidth": 0,
              "ticks": ""
             }
            },
            "type": "scatterpolargl"
           }
          ],
          "scatterternary": [
           {
            "marker": {
             "colorbar": {
              "outlinewidth": 0,
              "ticks": ""
             }
            },
            "type": "scatterternary"
           }
          ],
          "surface": [
           {
            "colorbar": {
             "outlinewidth": 0,
             "ticks": ""
            },
            "colorscale": [
             [
              0,
              "#0d0887"
             ],
             [
              0.1111111111111111,
              "#46039f"
             ],
             [
              0.2222222222222222,
              "#7201a8"
             ],
             [
              0.3333333333333333,
              "#9c179e"
             ],
             [
              0.4444444444444444,
              "#bd3786"
             ],
             [
              0.5555555555555556,
              "#d8576b"
             ],
             [
              0.6666666666666666,
              "#ed7953"
             ],
             [
              0.7777777777777778,
              "#fb9f3a"
             ],
             [
              0.8888888888888888,
              "#fdca26"
             ],
             [
              1,
              "#f0f921"
             ]
            ],
            "type": "surface"
           }
          ],
          "table": [
           {
            "cells": {
             "fill": {
              "color": "#EBF0F8"
             },
             "line": {
              "color": "white"
             }
            },
            "header": {
             "fill": {
              "color": "#C8D4E3"
             },
             "line": {
              "color": "white"
             }
            },
            "type": "table"
           }
          ]
         },
         "layout": {
          "annotationdefaults": {
           "arrowcolor": "#2a3f5f",
           "arrowhead": 0,
           "arrowwidth": 1
          },
          "autotypenumbers": "strict",
          "coloraxis": {
           "colorbar": {
            "outlinewidth": 0,
            "ticks": ""
           }
          },
          "colorscale": {
           "diverging": [
            [
             0,
             "#8e0152"
            ],
            [
             0.1,
             "#c51b7d"
            ],
            [
             0.2,
             "#de77ae"
            ],
            [
             0.3,
             "#f1b6da"
            ],
            [
             0.4,
             "#fde0ef"
            ],
            [
             0.5,
             "#f7f7f7"
            ],
            [
             0.6,
             "#e6f5d0"
            ],
            [
             0.7,
             "#b8e186"
            ],
            [
             0.8,
             "#7fbc41"
            ],
            [
             0.9,
             "#4d9221"
            ],
            [
             1,
             "#276419"
            ]
           ],
           "sequential": [
            [
             0,
             "#0d0887"
            ],
            [
             0.1111111111111111,
             "#46039f"
            ],
            [
             0.2222222222222222,
             "#7201a8"
            ],
            [
             0.3333333333333333,
             "#9c179e"
            ],
            [
             0.4444444444444444,
             "#bd3786"
            ],
            [
             0.5555555555555556,
             "#d8576b"
            ],
            [
             0.6666666666666666,
             "#ed7953"
            ],
            [
             0.7777777777777778,
             "#fb9f3a"
            ],
            [
             0.8888888888888888,
             "#fdca26"
            ],
            [
             1,
             "#f0f921"
            ]
           ],
           "sequentialminus": [
            [
             0,
             "#0d0887"
            ],
            [
             0.1111111111111111,
             "#46039f"
            ],
            [
             0.2222222222222222,
             "#7201a8"
            ],
            [
             0.3333333333333333,
             "#9c179e"
            ],
            [
             0.4444444444444444,
             "#bd3786"
            ],
            [
             0.5555555555555556,
             "#d8576b"
            ],
            [
             0.6666666666666666,
             "#ed7953"
            ],
            [
             0.7777777777777778,
             "#fb9f3a"
            ],
            [
             0.8888888888888888,
             "#fdca26"
            ],
            [
             1,
             "#f0f921"
            ]
           ]
          },
          "colorway": [
           "#636efa",
           "#EF553B",
           "#00cc96",
           "#ab63fa",
           "#FFA15A",
           "#19d3f3",
           "#FF6692",
           "#B6E880",
           "#FF97FF",
           "#FECB52"
          ],
          "font": {
           "color": "#2a3f5f"
          },
          "geo": {
           "bgcolor": "white",
           "lakecolor": "white",
           "landcolor": "#E5ECF6",
           "showlakes": true,
           "showland": true,
           "subunitcolor": "white"
          },
          "hoverlabel": {
           "align": "left"
          },
          "hovermode": "closest",
          "mapbox": {
           "style": "light"
          },
          "paper_bgcolor": "white",
          "plot_bgcolor": "#E5ECF6",
          "polar": {
           "angularaxis": {
            "gridcolor": "white",
            "linecolor": "white",
            "ticks": ""
           },
           "bgcolor": "#E5ECF6",
           "radialaxis": {
            "gridcolor": "white",
            "linecolor": "white",
            "ticks": ""
           }
          },
          "scene": {
           "xaxis": {
            "backgroundcolor": "#E5ECF6",
            "gridcolor": "white",
            "gridwidth": 2,
            "linecolor": "white",
            "showbackground": true,
            "ticks": "",
            "zerolinecolor": "white"
           },
           "yaxis": {
            "backgroundcolor": "#E5ECF6",
            "gridcolor": "white",
            "gridwidth": 2,
            "linecolor": "white",
            "showbackground": true,
            "ticks": "",
            "zerolinecolor": "white"
           },
           "zaxis": {
            "backgroundcolor": "#E5ECF6",
            "gridcolor": "white",
            "gridwidth": 2,
            "linecolor": "white",
            "showbackground": true,
            "ticks": "",
            "zerolinecolor": "white"
           }
          },
          "shapedefaults": {
           "line": {
            "color": "#2a3f5f"
           }
          },
          "ternary": {
           "aaxis": {
            "gridcolor": "white",
            "linecolor": "white",
            "ticks": ""
           },
           "baxis": {
            "gridcolor": "white",
            "linecolor": "white",
            "ticks": ""
           },
           "bgcolor": "#E5ECF6",
           "caxis": {
            "gridcolor": "white",
            "linecolor": "white",
            "ticks": ""
           }
          },
          "title": {
           "x": 0.05
          },
          "xaxis": {
           "automargin": true,
           "gridcolor": "white",
           "linecolor": "white",
           "ticks": "",
           "title": {
            "standoff": 15
           },
           "zerolinecolor": "white",
           "zerolinewidth": 2
          },
          "yaxis": {
           "automargin": true,
           "gridcolor": "white",
           "linecolor": "white",
           "ticks": "",
           "title": {
            "standoff": 15
           },
           "zerolinecolor": "white",
           "zerolinewidth": 2
          }
         }
        },
        "title": {
         "text": "Global COVID-19 Cases per Million"
        }
       }
      },
      "image/png": "[encoded data removed]",
      "text/html": [
       "<div>                            <div id=\"c4e9d719-ca0b-4e5f-828e-508dbf33c7d8\" class=\"plotly-graph-div\" style=\"height:525px; width:100%;\"></div>            <script type=\"text/javascript\">                require([\"plotly\"], function(Plotly) {                    window.PLOTLYENV=window.PLOTLYENV || {};                                    if (document.getElementById(\"c4e9d719-ca0b-4e5f-828e-508dbf33c7d8\")) {                    Plotly.newPlot(                        \"c4e9d719-ca0b-4e5f-828e-508dbf33c7d8\",                        [{\"coloraxis\":\"coloraxis\",\"customdata\":[[235214.0,41128772.0],[13145380.0,1426736614.0],[335047.0,2842318.0],[272139.0,44903228.0],[8359.0,44295.0],[48015.0,79843.0],[107481.0,35588996.0],[3904.0,15877.0],[9106.0,93772.0],[10101218.0,45510324.0],[452273.0,2780472.0],[44224.0,106459.0],[301499099.0,4721383370.0],[11861161.0,26177410.0],[6082444.0,8939617.0],[835757.0,10358078.0],[39127.0,409989.0],[696614.0,1472237.0],[2051348.0,171186368.0],[108582.0,281646.0],[994037.0,9534956.0],[4872829.0,11655923.0],[71414.0,405285.0],[28036.0,13352864.0],[18860.0,64207.0],[62697.0,782457.0],[1212147.0,12224114.0],[11922.0,27052.0],[403666.0,3233530.0],[330696.0,2630300.0],[37511921.0,215313504.0],[7557.0,31332.0],[347723.0,449002.0],[1329988.0,6781955.0],[22139.0,22673764.0],[54569.0,12889583.0],[139319.0,16767851.0],[125246.0,27914542.0],[4819055.0,38454328.0],[64474.0,593162.0],[31472.0,68722.0],[15441.0,5579148.0],[7702.0,17723312.0],[5401126.0,19603736.0],[99373219.0,1425887360.0],[6391876.0,51874028.0],[9109.0,836783.0],[25227.0,5970430.0],[7345.0,17032.0],[1234701.0,5180836.0],[88434.0,28160548.0],[1317144.0,4030361.0],[1113662.0,11212198.0],[45883.0,191173.0],[696410.0,896007.0],[4761919.0,10493990.0],[101009.0,99010216.0],[3435679.0,5882259.0],[15690.0,1120851.0],[16047.0,72758.0],[661103.0,11228821.0],[23460.0,1341298.0],[1077445.0,18001002.0],[516023.0,110990096.0],[201920.0,6336393.0],[null,56550000.0],[17130.0,1674916.0],[10189.0,3684041.0],[610471.0,1326064.0],[75356.0,1201680.0],[501193.0,123379928.0],[252916868.0,744807803.0],[185822587.0,450146793.0],[1923.0,3801.0],[34658.0,53117.0],[69047.0,929769.0],[1499712.0,5540745.0],[38997490.0,67813000.0],[98041.0,304568.0],[79387.0,306292.0],[49051.0,2388997.0],[12627.0,2705995.0],[1863615.0,3744385.0],[38437756.0,83369840.0],[172062.0,33475870.0],[20550.0,32677.0],[5673681.0,10384972.0],[11971.0,56494.0],[19693.0,125459.0],[203235.0,395762.0],[52287.0,171783.0],[1250371.0,17843914.0],[35326.0,63329.0],[38572.0,13859349.0],[9614.0,2105580.0],[74443.0,808727.0],[34456.0,11585003.0],[429044049.0,1250514600.0],[472896.0,10432858.0],[null,7488863.0],[2230800.0,9967304.0],[210374.0,372903.0],[45041748.0,1417173120.0],[6829399.0,275501344.0],[7627863.0,88550568.0],[2465545.0,44496124.0],[1745088.0,5023108.0],[38008.0,84534.0],[4841558.0,9449000.0],[26781078.0,59037472.0],[157181.0,2827382.0],[33803572.0,123951696.0],[66391.0,110796.0],[1746997.0,11285875.0],[1504370.0,19397998.0],[344106.0,54027484.0],[5085.0,131237.0],[274279.0,1782115.0],[667290.0,4268886.0],[88953.0,6630621.0],[219060.0,7529477.0],[977765.0,1850654.0],[1239904.0,5489744.0],[36138.0,2305826.0],[7930.0,5302690.0],[507269.0,6812344.0],[21588.0,39355.0],[1369355.0,2750058.0],[1944334.0,737604900.0],[91954400.0,3432097300.0],[393542.0,647601.0],[null,695180.0],[68567.0,29611718.0],[89168.0,20405318.0],[5309410.0,33938216.0],[186694.0,523798.0],[33166.0,22593598.0],[122796.0,533293.0],[16297.0,41593.0],[230354.0,367512.0],[63872.0,4736146.0],[328167.0,1299478.0],[42027.0,326113.0],[7619458.0,127504120.0],[31765.0,114178.0],[637520.0,3272993.0],[17181.0,36491.0],[1011489.0,3398373.0],[251280.0,627082.0],[1403.0,4413.0],[1279115.0,37457976.0],[233843.0,32969520.0],[642885.0,54179312.0],[172533.0,2567024.0],[5393.0,12691.0],[1003450.0,30547586.0],[8640008.0,17564020.0],[80163.0,289959.0],[2639048.0,5185289.0],[16185.0,6948395.0],[9518.0,26207982.0],[267188.0,218541216.0],[1074.0,1952.0],[124492666.0,600323657.0],[0.0,26069416.0],[350924.0,2093606.0],[null,382836.0],[null,1896000.0],[14912.0,49574.0],[1512647.0,5434324.0],[15003352.0,45038860.0],[399449.0,4576300.0],[1580631.0,235824864.0],[6372.0,18084.0],[703228.0,5250076.0],[1044821.0,4408582.0],[46864.0,10142625.0],[735759.0,6780745.0],[4526977.0,34049588.0],[4140383.0,115559008.0],[4.0,47.0],[6670799.0,39857144.0],[5664109.0,10270857.0],[1252713.0,3252412.0],[514524.0,2695131.0],[494595.0,974062.0],[3541619.0,19659270.0],[24268728.0,144713312.0],[133264.0,13776702.0],[5507.0,10994.0],[2166.0,5401.0],[6607.0,47681.0],[30282.0,179872.0],[12324.0,31816.0],[3426.0,5885.0],[9674.0,103959.0],[17057.0,222390.0],[25292.0,33690.0],[6771.0,227393.0],[841469.0,36408824.0],[null,5466000.0],[89485.0,17316452.0],[2583470.0,6871547.0],[51886.0,107135.0],[7979.0,8605723.0],[3006155.0,5637022.0],[11051.0,44192.0],[1878002.0,5643455.0],[1356582.0,2119843.0],[25954.0,724272.0],[27334.0,17597508.0],[4072765.0,59893884.0],[68809418.0,436816679.0],[34571873.0,51815808.0],[18823.0,10913172.0],[13980340.0,47558632.0],[672798.0,21832150.0],[63993.0,46874200.0],[82501.0,618046.0],[2755181.0,10549349.0],[4457868.0,8740471.0],[57423.0,22125242.0],[null,23893396.0],[17786.0,9952789.0],[43230.0,65497752.0],[4799180.0,71697024.0],[39530.0,8848700.0],[80.0,1893.0],[16976.0,106867.0],[191496.0,1531043.0],[1153361.0,12356116.0],[17004718.0,85341248.0],[0.0,6430777.0],[6805.0,45726.0],[2943.0,11335.0],[172154.0,47249588.0],[5532777.0,39701744.0],[1067030.0,9441138.0],[24974629.0,67508936.0],[103436829.0,338289856.0],[25389.0,99479.0],[251753518.0,2525921300.0],[1041346.0,3422796.0],[175081.0,34627648.0],[12019.0,326744.0],[26.0,808.0],[552695.0,28301700.0],[11624000.0,98186856.0],[null,3170000.0],[3760.0,11596.0],[null,576005.0],[775866783.0,7975105024.0],[11945.0,33696612.0],[349842.0,20017670.0],[266386.0,16320539.0]],\"geo\":\"geo\",\"hovertemplate\":\"\\u003cb\\u003e%{hovertext}\\u003c\\u002fb\\u003e\\u003cbr\\u003e\\u003cbr\\u003eiso_code=%{location}\\u003cbr\\u003etotal_cases=%{customdata[0]}\\u003cbr\\u003epopulation=%{customdata[1]}\\u003cbr\\u003eCases per Million=%{z}\\u003cextra\\u003e\\u003c\\u002fextra\\u003e\",\"hovertext\":[\"Afghanistan\",\"Africa\",\"Albania\",\"Algeria\",\"American Samoa\",\"Andorra\",\"Angola\",\"Anguilla\",\"Antigua and Barbuda\",\"Argentina\",\"Armenia\",\"Aruba\",\"Asia\",\"Australia\",\"Austria\",\"Azerbaijan\",\"Bahamas\",\"Bahrain\",\"Bangladesh\",\"Barbados\",\"Belarus\",\"Belgium\",\"Belize\",\"Benin\",\"Bermuda\",\"Bhutan\",\"Bolivia\",\"Bonaire Sint Eustatius and Saba\",\"Bosnia and Herzegovina\",\"Botswana\",\"Brazil\",\"British Virgin Islands\",\"Brunei\",\"Bulgaria\",\"Burkina Faso\",\"Burundi\",\"Cambodia\",\"Cameroon\",\"Canada\",\"Cape Verde\",\"Cayman Islands\",\"Central African Republic\",\"Chad\",\"Chile\",\"China\",\"Colombia\",\"Comoros\",\"Congo\",\"Cook Islands\",\"Costa Rica\",\"Cote d'Ivoire\",\"Croatia\",\"Cuba\",\"Curacao\",\"Cyprus\",\"Czechia\",\"Democratic Republic of Congo\",\"Denmark\",\"Djibouti\",\"Dominica\",\"Dominican Republic\",\"East Timor\",\"Ecuador\",\"Egypt\",\"El Salvador\",\"England\",\"Equatorial Guinea\",\"Eritrea\",\"Estonia\",\"Eswatini\",\"Ethiopia\",\"Europe\",\"European Union (27)\",\"Falkland Islands\",\"Faroe Islands\",\"Fiji\",\"Finland\",\"France\",\"French Guiana\",\"French Polynesia\",\"Gabon\",\"Gambia\",\"Georgia\",\"Germany\",\"Ghana\",\"Gibraltar\",\"Greece\",\"Greenland\",\"Grenada\",\"Guadeloupe\",\"Guam\",\"Guatemala\",\"Guernsey\",\"Guinea\",\"Guinea-Bissau\",\"Guyana\",\"Haiti\",\"High-income countries\",\"Honduras\",\"Hong Kong\",\"Hungary\",\"Iceland\",\"India\",\"Indonesia\",\"Iran\",\"Iraq\",\"Ireland\",\"Isle of Man\",\"Israel\",\"Italy\",\"Jamaica\",\"Japan\",\"Jersey\",\"Jordan\",\"Kazakhstan\",\"Kenya\",\"Kiribati\",\"Kosovo\",\"Kuwait\",\"Kyrgyzstan\",\"Laos\",\"Latvia\",\"Lebanon\",\"Lesotho\",\"Liberia\",\"Libya\",\"Liechtenstein\",\"Lithuania\",\"Low-income countries\",\"Lower-middle-income countries\",\"Luxembourg\",\"Macao\",\"Madagascar\",\"Malawi\",\"Malaysia\",\"Maldives\",\"Mali\",\"Malta\",\"Marshall Islands\",\"Martinique\",\"Mauritania\",\"Mauritius\",\"Mayotte\",\"Mexico\",\"Micronesia (country)\",\"Moldova\",\"Monaco\",\"Mongolia\",\"Montenegro\",\"Montserrat\",\"Morocco\",\"Mozambique\",\"Myanmar\",\"Namibia\",\"Nauru\",\"Nepal\",\"Netherlands\",\"New Caledonia\",\"New Zealand\",\"Nicaragua\",\"Niger\",\"Nigeria\",\"Niue\",\"North America\",\"North Korea\",\"North Macedonia\",\"Northern Cyprus\",\"Northern Ireland\",\"Northern Mariana Islands\",\"Norway\",\"Oceania\",\"Oman\",\"Pakistan\",\"Palau\",\"Palestine\",\"Panama\",\"Papua New Guinea\",\"Paraguay\",\"Peru\",\"Philippines\",\"Pitcairn\",\"Poland\",\"Portugal\",\"Puerto Rico\",\"Qatar\",\"Reunion\",\"Romania\",\"Russia\",\"Rwanda\",\"Saint Barthelemy\",\"Saint Helena\",\"Saint Kitts and Nevis\",\"Saint Lucia\",\"Saint Martin (French part)\",\"Saint Pierre and Miquelon\",\"Saint Vincent and the Grenadines\",\"Samoa\",\"San Marino\",\"Sao Tome and Principe\",\"Saudi Arabia\",\"Scotland\",\"Senegal\",\"Serbia\",\"Seychelles\",\"Sierra Leone\",\"Singapore\",\"Sint Maarten (Dutch part)\",\"Slovakia\",\"Slovenia\",\"Solomon Islands\",\"Somalia\",\"South Africa\",\"South America\",\"South Korea\",\"South Sudan\",\"Spain\",\"Sri Lanka\",\"Sudan\",\"Suriname\",\"Sweden\",\"Switzerland\",\"Syria\",\"Taiwan\",\"Tajikistan\",\"Tanzania\",\"Thailand\",\"Togo\",\"Tokelau\",\"Tonga\",\"Trinidad and Tobago\",\"Tunisia\",\"Turkey\",\"Turkmenistan\",\"Turks and Caicos Islands\",\"Tuvalu\",\"Uganda\",\"Ukraine\",\"United Arab Emirates\",\"United Kingdom\",\"United States\",\"United States Virgin Islands\",\"Upper-middle-income countries\",\"Uruguay\",\"Uzbekistan\",\"Vanuatu\",\"Vatican\",\"Venezuela\",\"Vietnam\",\"Wales\",\"Wallis and Futuna\",\"Western Sahara\",\"World\",\"Yemen\",\"Zambia\",\"Zimbabwe\"],\"locations\":[\"AFG\",\"OWID_AFR\",\"ALB\",\"DZA\",\"ASM\",\"AND\",\"AGO\",\"AIA\",\"ATG\",\"ARG\",\"ARM\",\"ABW\",\"OWID_ASI\",\"AUS\",\"AUT\",\"AZE\",\"BHS\",\"BHR\",\"BGD\",\"BRB\",\"BLR\",\"BEL\",\"BLZ\",\"BEN\",\"BMU\",\"BTN\",\"BOL\",\"BES\",\"BIH\",\"BWA\",\"BRA\",\"VGB\",\"BRN\",\"BGR\",\"BFA\",\"BDI\",\"KHM\",\"CMR\",\"CAN\",\"CPV\",\"CYM\",\"CAF\",\"TCD\",\"CHL\",\"CHN\",\"COL\",\"COM\",\"COG\",\"COK\",\"CRI\",\"CIV\",\"HRV\",\"CUB\",\"CUW\",\"CYP\",\"CZE\",\"COD\",\"DNK\",\"DJI\",\"DMA\",\"DOM\",\"TLS\",\"ECU\",\"EGY\",\"SLV\",\"OWID_ENG\",\"GNQ\",\"ERI\",\"EST\",\"SWZ\",\"ETH\",\"OWID_EUR\",\"OWID_EUN\",\"FLK\",\"FRO\",\"FJI\",\"FIN\",\"FRA\",\"GUF\",\"PYF\",\"GAB\",\"GMB\",\"GEO\",\"DEU\",\"GHA\",\"GIB\",\"GRC\",\"GRL\",\"GRD\",\"GLP\",\"GUM\",\"GTM\",\"GGY\",\"GIN\",\"GNB\",\"GUY\",\"HTI\",\"OWID_HIC\",\"HND\",\"HKG\",\"HUN\",\"ISL\",\"IND\",\"IDN\",\"IRN\",\"IRQ\",\"IRL\",\"IMN\",\"ISR\",\"ITA\",\"JAM\",\"JPN\",\"JEY\",\"JOR\",\"KAZ\",\"KEN\",\"KIR\",\"OWID_KOS\",\"KWT\",\"KGZ\",\"LAO\",\"LVA\",\"LBN\",\"LSO\",\"LBR\",\"LBY\",\"LIE\",\"LTU\",\"OWID_LIC\",\"OWID_LMC\",\"LUX\",\"MAC\",\"MDG\",\"MWI\",\"MYS\",\"MDV\",\"MLI\",\"MLT\",\"MHL\",\"MTQ\",\"MRT\",\"MUS\",\"MYT\",\"MEX\",\"FSM\",\"MDA\",\"MCO\",\"MNG\",\"MNE\",\"MSR\",\"MAR\",\"MOZ\",\"MMR\",\"NAM\",\"NRU\",\"NPL\",\"NLD\",\"NCL\",\"NZL\",\"NIC\",\"NER\",\"NGA\",\"NIU\",\"OWID_NAM\",\"PRK\",\"MKD\",\"OWID_CYN\",\"OWID_NIR\",\"MNP\",\"NOR\",\"OWID_OCE\",\"OMN\",\"PAK\",\"PLW\",\"PSE\",\"PAN\",\"PNG\",\"PRY\",\"PER\",\"PHL\",\"PCN\",\"POL\",\"PRT\",\"PRI\",\"QAT\",\"REU\",\"ROU\",\"RUS\",\"RWA\",\"BLM\",\"SHN\",\"KNA\",\"LCA\",\"MAF\",\"SPM\",\"VCT\",\"WSM\",\"SMR\",\"STP\",\"SAU\",\"OWID_SCT\",\"SEN\",\"SRB\",\"SYC\",\"SLE\",\"SGP\",\"SXM\",\"SVK\",\"SVN\",\"SLB\",\"SOM\",\"ZAF\",\"OWID_SAM\",\"KOR\",\"SSD\",\"ESP\",\"LKA\",\"SDN\",\"SUR\",\"SWE\",\"CHE\",\"SYR\",\"TWN\",\"TJK\",\"TZA\",\"THA\",\"TGO\",\"TKL\",\"TON\",\"TTO\",\"TUN\",\"TUR\",\"TKM\",\"TCA\",\"TUV\",\"UGA\",\"UKR\",\"ARE\",\"GBR\",\"USA\",\"VIR\",\"OWID_UMC\",\"URY\",\"UZB\",\"VUT\",\"VAT\",\"VEN\",\"VNM\",\"OWID_WLS\",\"WLF\",\"ESH\",\"OWID_WRL\",\"YEM\",\"ZMB\",\"ZWE\"],\"name\":\"\",\"z\":[5796.468,9088.877,118491.02,5984.05,172831.6,602280.44,3016.162,274890.88,98071.1,222455.06,156991.11,410271.62,63948.2,452699.0,671004.9,81178.445,98421.81,454276.25,12110.572,384600.7,108362.68,418562.72,177319.92,2037.573,291175.2,80286.07,100366.93,416067.56,125956.49,135536.98,178367.94,197084.3,763598.6,194845.4,983.56,4096.433,8099.134,4532.516,124134.43,124048.1,439497.84,3028.812,417.332,276229.6,69726.805,123543.3,10919.549,4180.042,498067.4,242966.97,2909.492,337121.47,100694.4,247546.55,523075.38,446155.97,986.445,582032.56,13798.259,240044.88,58865.52,17132.854,60449.453,4582.054,32151.248,null,9497.935,2988.457,452169.94,61821.89,3997.255,337990.34,413754.22,547083.94,641351.6,75097.78,269281.97,606706.0,328644.84,283131.66,20179.352,4789.353,491099.22,457123.1,5190.54,546092.3,544892.3,213714.42,168419.88,528290.6,316520.7,70057.125,554150.6,2744.335,4566.056,90603.38,2995.235,351468.5,45193.176,null,230352.08,553080.2,31598.86,24493.01,85204.44,55945.402,341503.62,451701.84,531855.56,449202.94,55361.973,270433.8,641502.3,155202.16,75088.555,6342.68,38971.19,159654.83,145394.48,12788.335,28979.996,519795.25,215842.16,15807.624,1475.817,70221.87,548810.25,486117.47,2712.27,28590.73,602376.2,null,2252.732,4335.124,153028.81,356207.4,1437.46,232482.77,406469.78,659169.44,13100.216,257157.16,137667.97,59243.242,283302.4,209711.42,441115.3,298725.5,408818.03,313449.5,34265.92,7160.744,11959.141,59706.86,456221.97,33768.65,482562.8,279186.16,514260.6,2404.667,376.028,1197.342,582429.5,205992.19,0.0,190695.11,null,null,323463.7,277204.28,333039.8,84446.055,6485.952,358299.6,132552.62,237417.66,4593.08,108832.664,135232.81,36330.51,88888.89,173783.28,543733.1,386523.97,177884.27,567494.2,184779.06,166703.84,9762.196,503014.25,403427.1,141383.66,169368.1,426465.5,594791.7,94785.52,79235.75,741418.25,29918.74,26152.596,null,5069.656,380413.34,413328.88,964.019,532073.56,262101.84,343127.25,641340.2,33228.562,1535.455,65291.246,159838.72,667636.06,1707.894,292302.16,29463.502,1295.842,132388.6,262715.12,507026.47,2556.432,null,1746.769,668.039,66901.21,4348.858,34602.074,161594.62,128012.02,95167.016,195325.25,0.0,148357.28,293947.25,3638.641,134785.47,104180.94,366308.0,302859.5,293443.22,88856.516,307099.0,5011.054,38391.758,50682.26,19590.072,116612.4,null,326928.1,null,97113.85,312.509,17359.357,16577.57],\"type\":\"choropleth\"}],                        {\"template\":{\"data\":{\"histogram2dcontour\":[{\"type\":\"histogram2dcontour\",\"colorbar\":{\"outlinewidth\":0,\"ticks\":\"\"},\"colorscale\":[[0.0,\"#0d0887\"],[0.1111111111111111,\"#46039f\"],[0.2222222222222222,\"#7201a8\"],[0.3333333333333333,\"#9c179e\"],[0.4444444444444444,\"#bd3786\"],[0.5555555555555556,\"#d8576b\"],[0.6666666666666666,\"#ed7953\"],[0.7777777777777778,\"#fb9f3a\"],[0.8888888888888888,\"#fdca26\"],[1.0,\"#f0f921\"]]}],\"choropleth\":[{\"type\":\"choropleth\",\"colorbar\":{\"outlinewidth\":0,\"ticks\":\"\"}}],\"histogram2d\":[{\"type\":\"histogram2d\",\"colorbar\":{\"outlinewidth\":0,\"ticks\":\"\"},\"colorscale\":[[0.0,\"#0d0887\"],[0.1111111111111111,\"#46039f\"],[0.2222222222222222,\"#7201a8\"],[0.3333333333333333,\"#9c179e\"],[0.4444444444444444,\"#bd3786\"],[0.5555555555555556,\"#d8576b\"],[0.6666666666666666,\"#ed7953\"],[0.7777777777777778,\"#fb9f3a\"],[0.8888888888888888,\"#fdca26\"],[1.0,\"#f0f921\"]]}],\"heatmap\":[{\"type\":\"heatmap\",\"colorbar\":{\"outlinewidth\":0,\"ticks\":\"\"},\"colorscale\":[[0.0,\"#0d0887\"],[0.1111111111111111,\"#46039f\"],[0.2222222222222222,\"#7201a8\"],[0.3333333333333333,\"#9c179e\"],[0.4444444444444444,\"#bd3786\"],[0.5555555555555556,\"#d8576b\"],[0.6666666666666666,\"#ed7953\"],[0.7777777777777778,\"#fb9f3a\"],[0.8888888888888888,\"#fdca26\"],[1.0,\"#f0f921\"]]}],\"heatmapgl\":[{\"type\":\"heatmapgl\",\"colorbar\":{\"outlinewidth\":0,\"ticks\":\"\"},\"colorscale\":[[0.0,\"#0d0887\"],[0.1111111111111111,\"#46039f\"],[0.2222222222222222,\"#7201a8\"],[0.3333333333333333,\"#9c179e\"],[0.4444444444444444,\"#bd3786\"],[0.5555555555555556,\"#d8576b\"],[0.6666666666666666,\"#ed7953\"],[0.7777777777777778,\"#fb9f3a\"],[0.8888888888888888,\"#fdca26\"],[1.0,\"#f0f921\"]]}],\"contourcarpet\":[{\"type\":\"contourcarpet\",\"colorbar\":{\"outlinewidth\":0,\"ticks\":\"\"}}],\"contour\":[{\"type\":\"contour\",\"colorbar\":{\"outlinewidth\":0,\"ticks\":\"\"},\"colorscale\":[[0.0,\"#0d0887\"],[0.1111111111111111,\"#46039f\"],[0.2222222222222222,\"#7201a8\"],[0.3333333333333333,\"#9c179e\"],[0.4444444444444444,\"#bd3786\"],[0.5555555555555556,\"#d8576b\"],[0.6666666666666666,\"#ed7953\"],[0.7777777777777778,\"#fb9f3a\"],[0.8888888888888888,\"#fdca26\"],[1.0,\"#f0f921\"]]}],\"surface\":[{\"type\":\"surface\",\"colorbar\":{\"outlinewidth\":0,\"ticks\":\"\"},\"colorscale\":[[0.0,\"#0d0887\"],[0.1111111111111111,\"#46039f\"],[0.2222222222222222,\"#7201a8\"],[0.3333333333333333,\"#9c179e\"],[0.4444444444444444,\"#bd3786\"],[0.5555555555555556,\"#d8576b\"],[0.6666666666666666,\"#ed7953\"],[0.7777777777777778,\"#fb9f3a\"],[0.8888888888888888,\"#fdca26\"],[1.0,\"#f0f921\"]]}],\"mesh3d\":[{\"type\":\"mesh3d\",\"colorbar\":{\"outlinewidth\":0,\"ticks\":\"\"}}],\"scatter\":[{\"fillpattern\":{\"fillmode\":\"overlay\",\"size\":10,\"solidity\":0.2},\"type\":\"scatter\"}],\"parcoords\":[{\"type\":\"parcoords\",\"line\":{\"colorbar\":{\"outlinewidth\":0,\"ticks\":\"\"}}}],\"scatterpolargl\":[{\"type\":\"scatterpolargl\",\"marker\":{\"colorbar\":{\"outlinewidth\":0,\"ticks\":\"\"}}}],\"bar\":[{\"error_x\":{\"color\":\"#2a3f5f\"},\"error_y\":{\"color\":\"#2a3f5f\"},\"marker\":{\"line\":{\"color\":\"#E5ECF6\",\"width\":0.5},\"pattern\":{\"fillmode\":\"overlay\",\"size\":10,\"solidity\":0.2}},\"type\":\"bar\"}],\"scattergeo\":[{\"type\":\"scattergeo\",\"marker\":{\"colorbar\":{\"outlinewidth\":0,\"ticks\":\"\"}}}],\"scatterpolar\":[{\"type\":\"scatterpolar\",\"marker\":{\"colorbar\":{\"outlinewidth\":0,\"ticks\":\"\"}}}],\"histogram\":[{\"marker\":{\"pattern\":{\"fillmode\":\"overlay\",\"size\":10,\"solidity\":0.2}},\"type\":\"histogram\"}],\"scattergl\":[{\"type\":\"scattergl\",\"marker\":{\"colorbar\":{\"outlinewidth\":0,\"ticks\":\"\"}}}],\"scatter3d\":[{\"type\":\"scatter3d\",\"line\":{\"colorbar\":{\"outlinewidth\":0,\"ticks\":\"\"}},\"marker\":{\"colorbar\":{\"outlinewidth\":0,\"ticks\":\"\"}}}],\"scattermapbox\":[{\"type\":\"scattermapbox\",\"marker\":{\"colorbar\":{\"outlinewidth\":0,\"ticks\":\"\"}}}],\"scatterternary\":[{\"type\":\"scatterternary\",\"marker\":{\"colorbar\":{\"outlinewidth\":0,\"ticks\":\"\"}}}],\"scattercarpet\":[{\"type\":\"scattercarpet\",\"marker\":{\"colorbar\":{\"outlinewidth\":0,\"ticks\":\"\"}}}],\"carpet\":[{\"aaxis\":{\"endlinecolor\":\"#2a3f5f\",\"gridcolor\":\"white\",\"linecolor\":\"white\",\"minorgridcolor\":\"white\",\"startlinecolor\":\"#2a3f5f\"},\"baxis\":{\"endlinecolor\":\"#2a3f5f\",\"gridcolor\":\"white\",\"linecolor\":\"white\",\"minorgridcolor\":\"white\",\"startlinecolor\":\"#2a3f5f\"},\"type\":\"carpet\"}],\"table\":[{\"cells\":{\"fill\":{\"color\":\"#EBF0F8\"},\"line\":{\"color\":\"white\"}},\"header\":{\"fill\":{\"color\":\"#C8D4E3\"},\"line\":{\"color\":\"white\"}},\"type\":\"table\"}],\"barpolar\":[{\"marker\":{\"line\":{\"color\":\"#E5ECF6\",\"width\":0.5},\"pattern\":{\"fillmode\":\"overlay\",\"size\":10,\"solidity\":0.2}},\"type\":\"barpolar\"}],\"pie\":[{\"automargin\":true,\"type\":\"pie\"}]},\"layout\":{\"autotypenumbers\":\"strict\",\"colorway\":[\"#636efa\",\"#EF553B\",\"#00cc96\",\"#ab63fa\",\"#FFA15A\",\"#19d3f3\",\"#FF6692\",\"#B6E880\",\"#FF97FF\",\"#FECB52\"],\"font\":{\"color\":\"#2a3f5f\"},\"hovermode\":\"closest\",\"hoverlabel\":{\"align\":\"left\"},\"paper_bgcolor\":\"white\",\"plot_bgcolor\":\"#E5ECF6\",\"polar\":{\"bgcolor\":\"#E5ECF6\",\"angularaxis\":{\"gridcolor\":\"white\",\"linecolor\":\"white\",\"ticks\":\"\"},\"radialaxis\":{\"gridcolor\":\"white\",\"linecolor\":\"white\",\"ticks\":\"\"}},\"ternary\":{\"bgcolor\":\"#E5ECF6\",\"aaxis\":{\"gridcolor\":\"white\",\"linecolor\":\"white\",\"ticks\":\"\"},\"baxis\":{\"gridcolor\":\"white\",\"linecolor\":\"white\",\"ticks\":\"\"},\"caxis\":{\"gridcolor\":\"white\",\"linecolor\":\"white\",\"ticks\":\"\"}},\"coloraxis\":{\"colorbar\":{\"outlinewidth\":0,\"ticks\":\"\"}},\"colorscale\":{\"sequential\":[[0.0,\"#0d0887\"],[0.1111111111111111,\"#46039f\"],[0.2222222222222222,\"#7201a8\"],[0.3333333333333333,\"#9c179e\"],[0.4444444444444444,\"#bd3786\"],[0.5555555555555556,\"#d8576b\"],[0.6666666666666666,\"#ed7953\"],[0.7777777777777778,\"#fb9f3a\"],[0.8888888888888888,\"#fdca26\"],[1.0,\"#f0f921\"]],\"sequentialminus\":[[0.0,\"#0d0887\"],[0.1111111111111111,\"#46039f\"],[0.2222222222222222,\"#7201a8\"],[0.3333333333333333,\"#9c179e\"],[0.4444444444444444,\"#bd3786\"],[0.5555555555555556,\"#d8576b\"],[0.6666666666666666,\"#ed7953\"],[0.7777777777777778,\"#fb9f3a\"],[0.8888888888888888,\"#fdca26\"],[1.0,\"#f0f921\"]],\"diverging\":[[0,\"#8e0152\"],[0.1,\"#c51b7d\"],[0.2,\"#de77ae\"],[0.3,\"#f1b6da\"],[0.4,\"#fde0ef\"],[0.5,\"#f7f7f7\"],[0.6,\"#e6f5d0\"],[0.7,\"#b8e186\"],[0.8,\"#7fbc41\"],[0.9,\"#4d9221\"],[1,\"#276419\"]]},\"xaxis\":{\"gridcolor\":\"white\",\"linecolor\":\"white\",\"ticks\":\"\",\"title\":{\"standoff\":15},\"zerolinecolor\":\"white\",\"automargin\":true,\"zerolinewidth\":2},\"yaxis\":{\"gridcolor\":\"white\",\"linecolor\":\"white\",\"ticks\":\"\",\"title\":{\"standoff\":15},\"zerolinecolor\":\"white\",\"automargin\":true,\"zerolinewidth\":2},\"scene\":{\"xaxis\":{\"backgroundcolor\":\"#E5ECF6\",\"gridcolor\":\"white\",\"linecolor\":\"white\",\"showbackground\":true,\"ticks\":\"\",\"zerolinecolor\":\"white\",\"gridwidth\":2},\"yaxis\":{\"backgroundcolor\":\"#E5ECF6\",\"gridcolor\":\"white\",\"linecolor\":\"white\",\"showbackground\":true,\"ticks\":\"\",\"zerolinecolor\":\"white\",\"gridwidth\":2},\"zaxis\":{\"backgroundcolor\":\"#E5ECF6\",\"gridcolor\":\"white\",\"linecolor\":\"white\",\"showbackground\":true,\"ticks\":\"\",\"zerolinecolor\":\"white\",\"gridwidth\":2}},\"shapedefaults\":{\"line\":{\"color\":\"#2a3f5f\"}},\"annotationdefaults\":{\"arrowcolor\":\"#2a3f5f\",\"arrowhead\":0,\"arrowwidth\":1},\"geo\":{\"bgcolor\":\"white\",\"landcolor\":\"#E5ECF6\",\"subunitcolor\":\"white\",\"showland\":true,\"showlakes\":true,\"lakecolor\":\"white\"},\"title\":{\"x\":0.05},\"mapbox\":{\"style\":\"light\"}}},\"geo\":{\"domain\":{\"x\":[0.0,1.0],\"y\":[0.0,1.0]},\"center\":{}},\"coloraxis\":{\"colorbar\":{\"title\":{\"text\":\"Cases per Million\"}},\"colorscale\":[[0.0,\"#0d0887\"],[0.1111111111111111,\"#46039f\"],[0.2222222222222222,\"#7201a8\"],[0.3333333333333333,\"#9c179e\"],[0.4444444444444444,\"#bd3786\"],[0.5555555555555556,\"#d8576b\"],[0.6666666666666666,\"#ed7953\"],[0.7777777777777778,\"#fb9f3a\"],[0.8888888888888888,\"#fdca26\"],[1.0,\"#f0f921\"]]},\"legend\":{\"tracegroupgap\":0},\"title\":{\"text\":\"Global COVID-19 Cases per Million\"},\"margin\":{\"r\":0,\"t\":40,\"l\":0,\"b\":0}},                        {\"responsive\": true}                    ).then(function(){\n",
       "                            \n",
       "var gd = document.getElementById('c4e9d719-ca0b-4e5f-828e-508dbf33c7d8');\n",
       "var x = new MutationObserver(function (mutations, observer) {{\n",
       "        var display = window.getComputedStyle(gd).display;\n",
       "        if (!display || display === 'none') {{\n",
       "            console.log([gd, 'removed!']);\n",
       "            Plotly.purge(gd);\n",
       "            observer.disconnect();\n",
       "        }}\n",
       "}});\n",
       "\n",
       "// Listen for the removal of the full notebook cells\n",
       "var notebookContainer = gd.closest('#notebook-container');\n",
       "if (notebookContainer) {{\n",
       "    x.observe(notebookContainer, {childList: true});\n",
       "}}\n",
       "\n",
       "// Listen for the clearing of the current output cell\n",
       "var outputEl = gd.closest('.output');\n",
       "if (outputEl) {{\n",
       "    x.observe(outputEl, {childList: true});\n",
       "}}\n",
       "\n",
       "                        })                };                });            </script>        </div>"
      ]
     },
     "metadata": {},
     "output_type": "display_data"
    }
   ],
   "source": [
    "import pandas as pd\n",
    "import matplotlib.pyplot as plt\n",
    "import seaborn as sns\n",
    "import plotly.express as px\n",
    "\n",
    "df = pd.read_csv('owid-covid-data.csv')\n",
    "\n",
    "print(\"Dataset Info:\")\n",
    "print(df.info())\n",
    "print(\"\\nSummary Statistics:\")\n",
    "print(df.describe(include='all'))\n",
    "print(\"\\nMissing Values Count:\")\n",
    "print(df.isnull().sum())\n",
    "\n",
    "df['date'] = pd.to_datetime(df['date'])\n",
    "\n",
    "countries = ['Kenya', 'United States', 'India', 'Brazil', 'Germany']\n",
    "columns = ['date', 'location', 'total_cases', 'new_cases', 'total_deaths', \n",
    "           'new_deaths', 'total_vaccinations', 'people_vaccinated', \n",
    "           'people_fully_vaccinated', 'population', 'iso_code']\n",
    "\n",
    "df_clean = df[df['location'].isin(countries)][columns]\n",
    "\n",
    "numeric_cols = ['total_cases', 'new_cases', 'total_deaths', 'new_deaths',\n",
    "               'total_vaccinations', 'people_vaccinated', \n",
    "               'people_fully_vaccinated', 'population']\n",
    "df_clean[numeric_cols] = df_clean[numeric_cols].apply(pd.to_numeric, errors='coerce')\n",
    "\n",
    "df_clean[numeric_cols] = df_clean.groupby('location')[numeric_cols].transform(lambda x: x.interpolate())\n",
    "\n",
    "plt.figure(figsize=(12, 6))\n",
    "for country in countries:\n",
    "    country_data = df_clean[df_clean['location'] == country].dropna(subset=['people_fully_vaccinated', 'population'])\n",
    "    if not country_data.empty:\n",
    "        plt.plot(country_data['date'], \n",
    "                country_data['people_fully_vaccinated'] / country_data['population'] * 100, \n",
    "                label=country)\n",
    "plt.title('Percentage of Population Fully Vaccinated', pad=20)\n",
    "plt.xlabel('Date')\n",
    "plt.ylabel('Percentage Vaccinated')\n",
    "plt.legend(bbox_to_anchor=(1.05, 1), loc='upper left')\n",
    "plt.grid(True, alpha=0.3)\n",
    "plt.tight_layout()\n",
    "plt.show()\n",
    "\n",
    "latest = df.sort_values('date').groupby('location', as_index=False).last()\n",
    "\n",
    "if 'total_cases_per_million' in latest.columns and 'iso_code' in latest.columns:\n",
    "    fig = px.choropleth(latest,\n",
    "                       locations=\"iso_code\",\n",
    "                       color=\"total_cases_per_million\",\n",
    "                       hover_name=\"location\",\n",
    "                       hover_data=[\"total_cases\", \"population\"],\n",
    "                       color_continuous_scale=px.colors.sequential.Plasma,\n",
    "                       title=\"Global COVID-19 Cases per Million\",\n",
    "                       labels={'total_cases_per_million': 'Cases per Million'})\n",
    "    fig.update_layout(margin={\"r\":0,\"t\":40,\"l\":0,\"b\":0})\n",
    "    fig.show()\n",
    "else:\n",
    "    print(\"Required columns for choropleth not found. Available columns:\", latest.columns.tolist())"
   ]
  }
 ],
 "metadata": {
  "kernelspec": {
   "display_name": "Python [conda env:base] *",
   "language": "python",
   "name": "conda-base-py"
  },
  "language_info": {
   "codemirror_mode": {
    "name": "ipython",
    "version": 3
   },
   "file_extension": ".py",
   "mimetype": "text/x-python",
   "name": "python",
   "nbconvert_exporter": "python",
   "pygments_lexer": "ipython3",
   "version": "3.12.7"
  }
 },
 "nbformat": 4,
 "nbformat_minor": 5
}
